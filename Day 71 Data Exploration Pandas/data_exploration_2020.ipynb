{
 "metadata": {
  "language_info": {
   "codemirror_mode": {
    "name": "ipython",
    "version": 3
   },
   "file_extension": ".py",
   "mimetype": "text/x-python",
   "name": "python",
   "nbconvert_exporter": "python",
   "pygments_lexer": "ipython3",
   "version": "3.9.1-final"
  },
  "orig_nbformat": 2,
  "kernelspec": {
   "name": "python38664bitc8c8fb0aafcb4eb191c3460e162009aa",
   "display_name": "Python 3.8.6 64-bit",
   "language": "python"
  }
 },
 "nbformat": 4,
 "nbformat_minor": 2,
 "cells": [
  {
   "cell_type": "code",
   "execution_count": 2,
   "metadata": {},
   "outputs": [],
   "source": [
    "import pandas as pd\n",
    "\n",
    "# Main dataframe to collect all data\n",
    "table_from_html = pd.read_html(\"https://www.payscale.com/college-salary-report/majors-that-pay-you-back/bachelors\")\n",
    "df = table_from_html[0].copy()\n",
    "df.columns = [\"Rank\", \"Major\", \"Type\", \"EarlyCareerPay\", \"MidCareerPay\", \"HighMeaning\"]\n",
    " \n",
    "# Add tables from other pages to main dataframe\n",
    "for page_no in range(2, 35):\n",
    "    table_from_html = pd.read_html(f\"https://www.payscale.com/college-salary-report/majors-that-pay-you-back/bachelors/page/{page_no}\")\n",
    "    page_df = table_from_html[0].copy()\n",
    "    page_df.columns = [\"Rank\", \"Major\", \"Type\", \"EarlyCareerPay\", \"MidCareerPay\", \"HighMeaning\"]\n",
    "    df = df.append(page_df, ignore_index=True)\n",
    " \n",
    "# Select necessary columns only\n",
    "df = df[[\"Major\", \"EarlyCareerPay\", \"MidCareerPay\"]]\n",
    " \n",
    "# Clean columns\n",
    "df.replace({\"^Major:\": \"\", \"^Early Career Pay:\\$\": \"\", \"^Mid-Career Pay:\\$\": \"\", \",\": \"\"}, regex=True, inplace=True)\n",
    " \n",
    "# Change datatype of numeric columns\n",
    "df[[\"EarlyCareerPay\", \"MidCareerPay\"]] = df[[\"EarlyCareerPay\", \"MidCareerPay\"]].apply(pd.to_numeric)\n"
   ]
  },
  {
   "cell_type": "code",
   "execution_count": 3,
   "metadata": {},
   "outputs": [
    {
     "output_type": "execute_result",
     "data": {
      "text/plain": [
       "                                               Major  EarlyCareerPay  \\\n",
       "1   Electrical Engineering & Computer Science (EECS)          101200   \n",
       "74                       Physician Assistant Studies           92900   \n",
       "0                              Petroleum Engineering           92300   \n",
       "49                         Metallurgical Engineering           79100   \n",
       "3                                Operations Research           78400   \n",
       "\n",
       "    MidCareerPay  \n",
       "1         152300  \n",
       "74        112200  \n",
       "0         182000  \n",
       "49        117700  \n",
       "3         139600  "
      ],
      "text/html": "<div>\n<style scoped>\n    .dataframe tbody tr th:only-of-type {\n        vertical-align: middle;\n    }\n\n    .dataframe tbody tr th {\n        vertical-align: top;\n    }\n\n    .dataframe thead th {\n        text-align: right;\n    }\n</style>\n<table border=\"1\" class=\"dataframe\">\n  <thead>\n    <tr style=\"text-align: right;\">\n      <th></th>\n      <th>Major</th>\n      <th>EarlyCareerPay</th>\n      <th>MidCareerPay</th>\n    </tr>\n  </thead>\n  <tbody>\n    <tr>\n      <th>1</th>\n      <td>Electrical Engineering &amp; Computer Science (EECS)</td>\n      <td>101200</td>\n      <td>152300</td>\n    </tr>\n    <tr>\n      <th>74</th>\n      <td>Physician Assistant Studies</td>\n      <td>92900</td>\n      <td>112200</td>\n    </tr>\n    <tr>\n      <th>0</th>\n      <td>Petroleum Engineering</td>\n      <td>92300</td>\n      <td>182000</td>\n    </tr>\n    <tr>\n      <th>49</th>\n      <td>Metallurgical Engineering</td>\n      <td>79100</td>\n      <td>117700</td>\n    </tr>\n    <tr>\n      <th>3</th>\n      <td>Operations Research</td>\n      <td>78400</td>\n      <td>139600</td>\n    </tr>\n  </tbody>\n</table>\n</div>"
     },
     "metadata": {},
     "execution_count": 3
    }
   ],
   "source": [
    "df.nlargest(5, \"EarlyCareerPay\")"
   ]
  },
  {
   "cell_type": "code",
   "execution_count": 4,
   "metadata": {},
   "outputs": [
    {
     "output_type": "execute_result",
     "data": {
      "text/plain": [
       "                                              Major  EarlyCareerPay  \\\n",
       "0                             Petroleum Engineering           92300   \n",
       "1  Electrical Engineering & Computer Science (EECS)          101200   \n",
       "2                  Applied Economics and Management           60900   \n",
       "3                               Operations Research           78400   \n",
       "4                                 Public Accounting           60000   \n",
       "\n",
       "   MidCareerPay  \n",
       "0        182000  \n",
       "1        152300  \n",
       "2        139600  \n",
       "3        139600  \n",
       "4        138800  "
      ],
      "text/html": "<div>\n<style scoped>\n    .dataframe tbody tr th:only-of-type {\n        vertical-align: middle;\n    }\n\n    .dataframe tbody tr th {\n        vertical-align: top;\n    }\n\n    .dataframe thead th {\n        text-align: right;\n    }\n</style>\n<table border=\"1\" class=\"dataframe\">\n  <thead>\n    <tr style=\"text-align: right;\">\n      <th></th>\n      <th>Major</th>\n      <th>EarlyCareerPay</th>\n      <th>MidCareerPay</th>\n    </tr>\n  </thead>\n  <tbody>\n    <tr>\n      <th>0</th>\n      <td>Petroleum Engineering</td>\n      <td>92300</td>\n      <td>182000</td>\n    </tr>\n    <tr>\n      <th>1</th>\n      <td>Electrical Engineering &amp; Computer Science (EECS)</td>\n      <td>101200</td>\n      <td>152300</td>\n    </tr>\n    <tr>\n      <th>2</th>\n      <td>Applied Economics and Management</td>\n      <td>60900</td>\n      <td>139600</td>\n    </tr>\n    <tr>\n      <th>3</th>\n      <td>Operations Research</td>\n      <td>78400</td>\n      <td>139600</td>\n    </tr>\n    <tr>\n      <th>4</th>\n      <td>Public Accounting</td>\n      <td>60000</td>\n      <td>138800</td>\n    </tr>\n  </tbody>\n</table>\n</div>"
     },
     "metadata": {},
     "execution_count": 4
    }
   ],
   "source": [
    "df.nlargest(5, \"MidCareerPay\")"
   ]
  },
  {
   "cell_type": "code",
   "execution_count": 5,
   "metadata": {},
   "outputs": [
    {
     "output_type": "execute_result",
     "data": {
      "text/plain": [
       "                         Major  EarlyCareerPay  MidCareerPay\n",
       "829  Early Childhood Education           34100         43300\n",
       "830              Mental Health           35200         42500\n",
       "831          Medical Assisting           35100         42300\n",
       "832      Addictions Counseling           38800         42200\n",
       "833              Metalsmithing           38300         38400"
      ],
      "text/html": "<div>\n<style scoped>\n    .dataframe tbody tr th:only-of-type {\n        vertical-align: middle;\n    }\n\n    .dataframe tbody tr th {\n        vertical-align: top;\n    }\n\n    .dataframe thead th {\n        text-align: right;\n    }\n</style>\n<table border=\"1\" class=\"dataframe\">\n  <thead>\n    <tr style=\"text-align: right;\">\n      <th></th>\n      <th>Major</th>\n      <th>EarlyCareerPay</th>\n      <th>MidCareerPay</th>\n    </tr>\n  </thead>\n  <tbody>\n    <tr>\n      <th>829</th>\n      <td>Early Childhood Education</td>\n      <td>34100</td>\n      <td>43300</td>\n    </tr>\n    <tr>\n      <th>830</th>\n      <td>Mental Health</td>\n      <td>35200</td>\n      <td>42500</td>\n    </tr>\n    <tr>\n      <th>831</th>\n      <td>Medical Assisting</td>\n      <td>35100</td>\n      <td>42300</td>\n    </tr>\n    <tr>\n      <th>832</th>\n      <td>Addictions Counseling</td>\n      <td>38800</td>\n      <td>42200</td>\n    </tr>\n    <tr>\n      <th>833</th>\n      <td>Metalsmithing</td>\n      <td>38300</td>\n      <td>38400</td>\n    </tr>\n  </tbody>\n</table>\n</div>"
     },
     "metadata": {},
     "execution_count": 5
    }
   ],
   "source": [
    "df.tail()"
   ]
  },
  {
   "cell_type": "code",
   "execution_count": 8,
   "metadata": {},
   "outputs": [
    {
     "output_type": "execute_result",
     "data": {
      "text/plain": [
       "                                   EarlyCareerPay  MidCareerPay\n",
       "Major                                                          \n",
       "3D Animation                                49400         72500\n",
       "Accounting                                  51700         88700\n",
       "Accounting & Auditing                       55400         95700\n",
       "Accounting & Business                       49400         77600\n",
       "Accounting & Computer Systems               60200        103800\n",
       "...                                           ...           ...\n",
       "Women's Studies                             42700         65400\n",
       "Workforce Education & Development           57100         79000\n",
       "Writing                                     41800         77000\n",
       "Youth Ministry                              35300         52300\n",
       "Zoology                                     40300         74600\n",
       "\n",
       "[834 rows x 2 columns]"
      ],
      "text/html": "<div>\n<style scoped>\n    .dataframe tbody tr th:only-of-type {\n        vertical-align: middle;\n    }\n\n    .dataframe tbody tr th {\n        vertical-align: top;\n    }\n\n    .dataframe thead th {\n        text-align: right;\n    }\n</style>\n<table border=\"1\" class=\"dataframe\">\n  <thead>\n    <tr style=\"text-align: right;\">\n      <th></th>\n      <th>EarlyCareerPay</th>\n      <th>MidCareerPay</th>\n    </tr>\n    <tr>\n      <th>Major</th>\n      <th></th>\n      <th></th>\n    </tr>\n  </thead>\n  <tbody>\n    <tr>\n      <th>3D Animation</th>\n      <td>49400</td>\n      <td>72500</td>\n    </tr>\n    <tr>\n      <th>Accounting</th>\n      <td>51700</td>\n      <td>88700</td>\n    </tr>\n    <tr>\n      <th>Accounting &amp; Auditing</th>\n      <td>55400</td>\n      <td>95700</td>\n    </tr>\n    <tr>\n      <th>Accounting &amp; Business</th>\n      <td>49400</td>\n      <td>77600</td>\n    </tr>\n    <tr>\n      <th>Accounting &amp; Computer Systems</th>\n      <td>60200</td>\n      <td>103800</td>\n    </tr>\n    <tr>\n      <th>...</th>\n      <td>...</td>\n      <td>...</td>\n    </tr>\n    <tr>\n      <th>Women's Studies</th>\n      <td>42700</td>\n      <td>65400</td>\n    </tr>\n    <tr>\n      <th>Workforce Education &amp; Development</th>\n      <td>57100</td>\n      <td>79000</td>\n    </tr>\n    <tr>\n      <th>Writing</th>\n      <td>41800</td>\n      <td>77000</td>\n    </tr>\n    <tr>\n      <th>Youth Ministry</th>\n      <td>35300</td>\n      <td>52300</td>\n    </tr>\n    <tr>\n      <th>Zoology</th>\n      <td>40300</td>\n      <td>74600</td>\n    </tr>\n  </tbody>\n</table>\n<p>834 rows × 2 columns</p>\n</div>"
     },
     "metadata": {},
     "execution_count": 8
    }
   ],
   "source": [
    "pd.options.display.float_format = '{:,.2f}'.format \n",
    "df.groupby('Major').mean()"
   ]
  },
  {
   "cell_type": "code",
   "execution_count": 28,
   "metadata": {},
   "outputs": [
    {
     "output_type": "stream",
     "name": "stdout",
     "text": [
      "This is the amount: $101,200.00 and this is the id: 1\n"
     ]
    }
   ],
   "source": [
    "pd.options.display.float_format = '{:20,.2f}'.format \n",
    "print(f\"This is the amount: ${'{:2,.2f}'.format(df['EarlyCareerPay'].max())} and this is the id: {df['EarlyCareerPay'].idxmax()}\")"
   ]
  },
  {
   "cell_type": "code",
   "execution_count": 16,
   "metadata": {},
   "outputs": [
    {
     "output_type": "execute_result",
     "data": {
      "text/plain": [
       "'Electrical Engineering & Computer Science (EECS)'"
      ]
     },
     "metadata": {},
     "execution_count": 16
    }
   ],
   "source": [
    "df['Major'][1]"
   ]
  },
  {
   "cell_type": "code",
   "execution_count": null,
   "metadata": {},
   "outputs": [],
   "source": []
  }
 ]
}